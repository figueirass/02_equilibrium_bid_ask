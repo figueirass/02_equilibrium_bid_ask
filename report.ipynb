{
 "cells": [
  {
   "cell_type": "markdown",
   "id": "6f2030c0",
   "metadata": {},
   "source": [
    "# 02 Equilibrium Bid & Ask"
   ]
  },
  {
   "cell_type": "code",
   "execution_count": 1,
   "id": "f4b36c0e",
   "metadata": {
    "vscode": {
     "languageId": "plaintext"
    }
   },
   "outputs": [],
   "source": [
    "import numpy as np\n",
    "from scipy.stats import norm\n",
    "from scipy.optimize import fsolve\n",
    "\n",
    "\n",
    "class CopelandGalaiCalc:\n",
    "    \"\"\"\n",
    "    \n",
    "    \"\"\"\n",
    "    def __init__(self):\n",
    "        pass\n",
    "\n",
    "\n",
    "    def bid_ask_normal_distribuition(self, mu:float=100, sigma:float=10, pi:float=0.3) -> tuple:\n",
    "        \"\"\"\n",
    "        This methods ...\n",
    "        parameters:\n",
    "        return:\n",
    "        \"\"\"\n",
    "        # Función de beneficio esperado (que queremos igualar a cero)\n",
    "        def expected_profit(S):\n",
    "            a = mu + S / 2\n",
    "            b = mu - S / 2\n",
    "\n",
    "            z_a = (a - mu) / sigma\n",
    "            z_b = (mu - b) / sigma\n",
    "\n",
    "            E_V_gt_a = mu + sigma * norm.pdf(z_a) / (1 - norm.cdf(z_a))\n",
    "            E_V_lt_b = mu - sigma * norm.pdf(z_b) / norm.cdf(z_b)\n",
    "\n",
    "            profit_ask = (1 - pi)*(a - mu) + pi*(a - E_V_gt_a)\n",
    "            profit_bid = (1 - pi)*(mu - b) + pi*(E_V_lt_b - b)\n",
    "\n",
    "            expected_profit = 0.5 * (profit_ask + profit_bid)\n",
    "            return expected_profit\n",
    "\n",
    "        # Resolver el spread de equilibrio (donde beneficio esperado = 0)\n",
    "        initial_guess = 1.0\n",
    "        spread_equilibrium = fsolve(expected_profit, initial_guess)[0]\n",
    "\n",
    "        # Calcular precios de bid y ask\n",
    "        ask = mu + spread_equilibrium / 2\n",
    "        bid = mu - spread_equilibrium / 2\n",
    "\n",
    "        print(f\"Spread de equilibrio: {spread_equilibrium:.4f}\")\n",
    "        print(f\"Precio Ask: {ask:.4f}\")\n",
    "        print(f\"Precio Bid: {bid:.4f}\")\n",
    "\n",
    "        return (bid, ask)\n",
    "    \n",
    "\n",
    "    def bid_ask_exponential_distribuition(self, lam:float=0.5, pi:float=0.3):\n",
    "        \n",
    "        E_V = 1 / lam\n",
    "\n",
    "        def expected_profit(S):\n",
    "            a = E_V + S / 2\n",
    "            b = E_V - S / 2\n",
    "\n",
    "            E_V_gt_a = a + (1 / lam)\n",
    "            E_V_lt_b = (1 / lam) - (b * np.exp(-lam * b)) / (1 - np.exp(-lam * b))\n",
    "\n",
    "            profit_ask = (1 - pi)*(a - E_V) + pi*(a - E_V_gt_a)\n",
    "            profit_bid = (1 - pi)*(E_V - b) + pi*(E_V_lt_b - b)\n",
    "\n",
    "            expected_profit = 0.5 * (profit_ask + profit_bid)\n",
    "            return expected_profit\n",
    "\n",
    "        # Resolver el spread de equilibrio (donde beneficio esperado = 0)\n",
    "        initial_guess = 1.0\n",
    "        spread_equilibrium = fsolve(expected_profit, initial_guess)[0]\n",
    "\n",
    "        # Calcular precios de bid y ask\n",
    "        ask = E_V + spread_equilibrium / 2\n",
    "        bid = E_V - spread_equilibrium / 2\n",
    "\n",
    "        print(f\"Spread de equilibrio: {spread_equilibrium:.4f}\")\n",
    "        print(f\"Precio Ask: {ask:.4f}\")\n",
    "        print(f\"Precio Bid: {bid:.4f}\")\n",
    "\n",
    "        return (bid, ask)"
   ]
  },
  {
   "cell_type": "code",
   "execution_count": 2,
   "id": "48a45ee5-0b06-44a2-98c8-889283ae5065",
   "metadata": {},
   "outputs": [
    {
     "name": "stdout",
     "output_type": "stream",
     "text": [
      "------- Normal  Distribuition -------\n",
      "Spread de equilibrio: 3.3778\n",
      "Precio Ask: 103.6889\n",
      "Precio Bid: 100.3111\n",
      "----- Exponential Distribuition -----\n",
      "Spread de equilibrio: 2.1235\n",
      "Precio Ask: 134.3951\n",
      "Precio Bid: 132.2716\n"
     ]
    },
    {
     "data": {
      "text/plain": [
       "(np.float64(132.27157212094556), np.float64(134.39509454572112))"
      ]
     },
     "execution_count": 2,
     "metadata": {},
     "output_type": "execute_result"
    }
   ],
   "source": [
    "from utils import CopelandGalaiCalc\n",
    "\n",
    "model = CopelandGalaiCalc()\n",
    "print(\"------- Normal  Distribuition -------\")\n",
    "model.bid_ask_normal_distribuition(mu=102, sigma=7, pi=0.3)\n",
    "\n",
    "print(\"----- Exponential Distribuition -----\")\n",
    "model.bid_ask_exponential_distribuition(lam=0.0075, pi=0.01)"
   ]
  }
 ],
 "metadata": {
  "kernelspec": {
   "display_name": "Python 3 (ipykernel)",
   "language": "python",
   "name": "python3"
  },
  "language_info": {
   "codemirror_mode": {
    "name": "ipython",
    "version": 3
   },
   "file_extension": ".py",
   "mimetype": "text/x-python",
   "name": "python",
   "nbconvert_exporter": "python",
   "pygments_lexer": "ipython3",
   "version": "3.9.7"
  }
 },
 "nbformat": 4,
 "nbformat_minor": 5
}
